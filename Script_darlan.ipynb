{
 "cells": [
  {
   "cell_type": "code",
   "execution_count": 1,
   "metadata": {},
   "outputs": [],
   "source": [
    "import pandas as pd\n",
    "import numpy as np"
   ]
  },
  {
   "cell_type": "code",
   "execution_count": 2,
   "metadata": {},
   "outputs": [],
   "source": [
    "a_p = pd.read_csv(\"playstation/achievements.csv\")\n",
    "g_p = pd.read_csv(\"playstation/games.csv\")\n",
    "h_p = pd.read_csv(\"playstation/history.csv\")\n",
    "p_p = pd.read_csv(\"playstation/players.csv\")\n",
    "pr_p = pd.read_csv(\"playstation/prices.csv\")\n",
    "pu_p = pd.read_csv(\"playstation/purchased_games.csv\")"
   ]
  },
  {
   "cell_type": "code",
   "execution_count": 3,
   "metadata": {},
   "outputs": [],
   "source": [
    "a_s = pd.read_csv(\"steam/achievements.csv\")\n",
    "g_s = pd.read_csv(\"steam/games.csv\")\n",
    "h_s = pd.read_csv(\"steam/history.csv\")\n",
    "p_s = pd.read_csv(\"steam/players.csv\")\n",
    "pr_s = pd.read_csv(\"steam/prices.csv\")\n",
    "pu_s = pd.read_csv(\"steam/purchased_games.csv\")\n",
    "f_s = pd.read_csv(\"steam/friends.csv\")\n",
    "r_s = pd.read_csv(\"steam/reviews.csv\")"
   ]
  },
  {
   "cell_type": "code",
   "execution_count": 4,
   "metadata": {},
   "outputs": [],
   "source": [
    "a_x = pd.read_csv(\"xbox/achievements.csv\")\n",
    "g_x = pd.read_csv(\"xbox/games.csv\")\n",
    "h_x = pd.read_csv(\"xbox/history.csv\")\n",
    "p_x = pd.read_csv(\"xbox/players.csv\")\n",
    "pr_x = pd.read_csv(\"xbox/prices.csv\")\n",
    "pu_x = pd.read_csv(\"xbox/purchased_games.csv\")"
   ]
  },
  {
   "cell_type": "code",
   "execution_count": 14,
   "metadata": {},
   "outputs": [],
   "source": [
    "# Ajout de la colonne platform\n",
    "a_p[\"platform\"]=\"playstation\"\n",
    "a_s[\"platform\"]=\"steam\"\n",
    "a_x[\"platform\"]=\"xbox\"\n",
    "\n",
    "g_p['platform'] = \"playstation\"\n",
    "g_s['platform'] = \"steam\"\n",
    "g_x['platform'] = \"xbox\"\n",
    "\n",
    "h_p['platform'] = \"playstation\"\n",
    "h_s['platform'] = \"steam\"\n",
    "h_x['platform'] = \"xbox\"\n",
    "\n",
    "p_p[\"platform\"]=\"playstation\"\n",
    "p_s[\"platform\"]=\"steam\"\n",
    "p_x[\"platform\"]=\"xbox\"\n",
    "\n",
    "pr_p[\"platform\"]=\"playstation\"\n",
    "pr_s[\"platform\"]=\"steam\"\n",
    "pr_x[\"platform\"]=\"xbox\"\n",
    "\n",
    "pu_p[\"platform\"]=\"playstation\"\n",
    "pu_s[\"platform\"]=\"steam\"\n",
    "pu_x[\"platform\"]=\"xbox\""
   ]
  },
  {
   "cell_type": "code",
   "execution_count": 15,
   "metadata": {},
   "outputs": [],
   "source": [
    "# Suppression des guillements et des crochets\n",
    "g_p=g_p.replace(r'[\\[\\]\"\\']', '', regex=True)\n",
    "g_s=g_s.replace(r'[\\[\\]\"\\']', '', regex=True)\n",
    "g_x=g_x.replace(r'[\\[\\]\"\\']', '', regex=True)\n",
    "\n",
    "pu_p=pu_p.replace(r'[\\[\\]]', '', regex=True)\n",
    "pu_s=pu_s.replace(r'[\\[\\]]', '', regex=True)\n",
    "pu_x=pu_x.replace(r'[\\[\\]]', '', regex=True)"
   ]
  },
  {
   "cell_type": "code",
   "execution_count": 16,
   "metadata": {},
   "outputs": [],
   "source": [
    "# Concaténation\n",
    "achievements_ = pd.concat([a_p, a_s, a_x], ignore_index=True)\n",
    "games_=pd.concat([g_p, g_s, g_x], ignore_index=True)\n",
    "history_=pd.concat([h_p, h_s, h_x], ignore_index=True)\n",
    "players_=pd.concat([p_p, p_s, p_x], ignore_index=True)\n",
    "prices_=pd.concat([pr_p, pr_s, pr_x], ignore_index=True)\n",
    "purchased_games_=pd.concat([pu_p, pu_s, pu_x], ignore_index=True)\n"
   ]
  },
  {
   "cell_type": "code",
   "execution_count": 8,
   "metadata": {},
   "outputs": [
    {
     "data": {
      "text/html": [
       "<div>\n",
       "<style scoped>\n",
       "    .dataframe tbody tr th:only-of-type {\n",
       "        vertical-align: middle;\n",
       "    }\n",
       "\n",
       "    .dataframe tbody tr th {\n",
       "        vertical-align: top;\n",
       "    }\n",
       "\n",
       "    .dataframe thead th {\n",
       "        text-align: right;\n",
       "    }\n",
       "</style>\n",
       "<table border=\"1\" class=\"dataframe\">\n",
       "  <thead>\n",
       "    <tr style=\"text-align: right;\">\n",
       "      <th></th>\n",
       "      <th>playerid</th>\n",
       "      <th>library</th>\n",
       "      <th>platform</th>\n",
       "      <th>nb_games</th>\n",
       "    </tr>\n",
       "  </thead>\n",
       "  <tbody>\n",
       "    <tr>\n",
       "      <th>0</th>\n",
       "      <td>268071</td>\n",
       "      <td>14972, 417905, 14693, 7742, 20162, 461983, 126...</td>\n",
       "      <td>playstation</td>\n",
       "      <td>231</td>\n",
       "    </tr>\n",
       "    <tr>\n",
       "      <th>1</th>\n",
       "      <td>2218485</td>\n",
       "      <td>410618, 17456, 16034, 138931, 175202, 331007, ...</td>\n",
       "      <td>playstation</td>\n",
       "      <td>867</td>\n",
       "    </tr>\n",
       "    <tr>\n",
       "      <th>2</th>\n",
       "      <td>253885</td>\n",
       "      <td>417808, 706747, 619583, 492711, 555631, 18167,...</td>\n",
       "      <td>playstation</td>\n",
       "      <td>50</td>\n",
       "    </tr>\n",
       "    <tr>\n",
       "      <th>3</th>\n",
       "      <td>1911732</td>\n",
       "      <td>670209, 694794, 658551, 582894, 602666, 655314...</td>\n",
       "      <td>playstation</td>\n",
       "      <td>137</td>\n",
       "    </tr>\n",
       "    <tr>\n",
       "      <th>4</th>\n",
       "      <td>3098524</td>\n",
       "      <td>19362, 170350, 12653, 20230, 12750, 18141, 413...</td>\n",
       "      <td>playstation</td>\n",
       "      <td>172</td>\n",
       "    </tr>\n",
       "    <tr>\n",
       "      <th>...</th>\n",
       "      <td>...</td>\n",
       "      <td>...</td>\n",
       "      <td>...</td>\n",
       "      <td>...</td>\n",
       "    </tr>\n",
       "    <tr>\n",
       "      <th>195591</th>\n",
       "      <td>698172</td>\n",
       "      <td>1225, 2937, 3597, 2114, 1142, 2152, 1186, 2119...</td>\n",
       "      <td>xbox</td>\n",
       "      <td>125</td>\n",
       "    </tr>\n",
       "    <tr>\n",
       "      <th>195592</th>\n",
       "      <td>606933</td>\n",
       "      <td>1240, 1529, 1209, 590826, 185285, 628210, 1579...</td>\n",
       "      <td>xbox</td>\n",
       "      <td>124</td>\n",
       "    </tr>\n",
       "    <tr>\n",
       "      <th>195593</th>\n",
       "      <td>776695</td>\n",
       "      <td>7756, 183346, 18204, 15414, 17177, 11501, 1958...</td>\n",
       "      <td>xbox</td>\n",
       "      <td>258</td>\n",
       "    </tr>\n",
       "    <tr>\n",
       "      <th>195594</th>\n",
       "      <td>3069400</td>\n",
       "      <td>755119, 12694, 550303, 19170, 176537, 648424, ...</td>\n",
       "      <td>xbox</td>\n",
       "      <td>219</td>\n",
       "    </tr>\n",
       "    <tr>\n",
       "      <th>195595</th>\n",
       "      <td>4017053</td>\n",
       "      <td>18204, 11683, 439438, 10948, 646081, 550303, 7...</td>\n",
       "      <td>xbox</td>\n",
       "      <td>56</td>\n",
       "    </tr>\n",
       "  </tbody>\n",
       "</table>\n",
       "<p>195596 rows × 4 columns</p>\n",
       "</div>"
      ],
      "text/plain": [
       "        playerid                                            library  \\\n",
       "0         268071  14972, 417905, 14693, 7742, 20162, 461983, 126...   \n",
       "1        2218485  410618, 17456, 16034, 138931, 175202, 331007, ...   \n",
       "2         253885  417808, 706747, 619583, 492711, 555631, 18167,...   \n",
       "3        1911732  670209, 694794, 658551, 582894, 602666, 655314...   \n",
       "4        3098524  19362, 170350, 12653, 20230, 12750, 18141, 413...   \n",
       "...          ...                                                ...   \n",
       "195591    698172  1225, 2937, 3597, 2114, 1142, 2152, 1186, 2119...   \n",
       "195592    606933  1240, 1529, 1209, 590826, 185285, 628210, 1579...   \n",
       "195593    776695  7756, 183346, 18204, 15414, 17177, 11501, 1958...   \n",
       "195594   3069400  755119, 12694, 550303, 19170, 176537, 648424, ...   \n",
       "195595   4017053  18204, 11683, 439438, 10948, 646081, 550303, 7...   \n",
       "\n",
       "           platform  nb_games  \n",
       "0       playstation       231  \n",
       "1       playstation       867  \n",
       "2       playstation        50  \n",
       "3       playstation       137  \n",
       "4       playstation       172  \n",
       "...             ...       ...  \n",
       "195591         xbox       125  \n",
       "195592         xbox       124  \n",
       "195593         xbox       258  \n",
       "195594         xbox       219  \n",
       "195595         xbox        56  \n",
       "\n",
       "[195596 rows x 4 columns]"
      ]
     },
     "execution_count": 8,
     "metadata": {},
     "output_type": "execute_result"
    }
   ],
   "source": [
    "# Ajout du nombre de jeux achetés par joueur\n",
    "purchased_games_[\"nb_games\"] = purchased_games_[\"library\"].astype(str).apply(\n",
    "    lambda x: len(x.split(',')) if x != \"nan\" else 0)\n",
    "purchased_games_"
   ]
  },
  {
   "cell_type": "code",
   "execution_count": null,
   "metadata": {},
   "outputs": [
    {
     "ename": "",
     "evalue": "",
     "output_type": "error",
     "traceback": [
      "\u001b[1;31mThe Kernel crashed while executing code in the current cell or a previous cell. \n",
      "\u001b[1;31mPlease review the code in the cell(s) to identify a possible cause of the failure. \n",
      "\u001b[1;31mClick <a href='https://aka.ms/vscodeJupyterKernelCrash'>here</a> for more info. \n",
      "\u001b[1;31mView Jupyter <a href='command:jupyter.viewOutput'>log</a> for further details."
     ]
    }
   ],
   "source": [
    "# Export\n",
    "achievements_.to_csv(\"achievements_.csv\", index=False)\n",
    "games_.to_csv(\"games_.csv\", index=False)\n",
    "players_.to_csv(\"players_.csv\", index=False)\n",
    "prices_.to_csv(\"prices_.csv\", index=False)\n",
    "purchased_games_.to_csv(\"purchased_games_.csv\", index=False)\n",
    "f_s.to_csv(\"friends_.csv\", index=False)\n",
    "r_s.to_csv(\"reviews_.csv\", index=False)"
   ]
  },
  {
   "cell_type": "code",
   "execution_count": 10,
   "metadata": {},
   "outputs": [
    {
     "name": "stderr",
     "output_type": "stream",
     "text": [
      "C:\\Users\\darla\\AppData\\Local\\Packages\\PythonSoftwareFoundation.Python.3.13_qbz5n2kfra8p0\\LocalCache\\local-packages\\Python313\\site-packages\\numpy\\_core\\fromnumeric.py:57: FutureWarning: 'DataFrame.swapaxes' is deprecated and will be removed in a future version. Please use 'DataFrame.transpose' instead.\n",
      "  return bound(*args, **kwds)\n"
     ]
    }
   ],
   "source": [
    "N = 4\n",
    "achievements_parts_ = np.array_split(achievements_, N)\n",
    "\n",
    "for i, part in enumerate(achievements_parts_):\n",
    "    part.to_csv(f'achievements_partie_{i+1}.csv', index=False)"
   ]
  },
  {
   "cell_type": "code",
   "execution_count": 11,
   "metadata": {},
   "outputs": [],
   "source": [
    "N = 15 \n",
    "history_parts_ = np.array_split(history_, N)\n",
    "\n",
    "for i, part in enumerate(history_parts_):\n",
    "    part.to_csv(f'history_partie_{i+1}.csv', index=False)"
   ]
  },
  {
   "cell_type": "code",
   "execution_count": 12,
   "metadata": {},
   "outputs": [],
   "source": [
    "N = 4\n",
    "reviews_parts_ = np.array_split(r_s, N)\n",
    "\n",
    "for i, part in enumerate(reviews_parts_):\n",
    "    part.to_csv(f'reviews_partie_{i+1}.csv', index=False)"
   ]
  },
  {
   "cell_type": "code",
   "execution_count": 13,
   "metadata": {},
   "outputs": [],
   "source": [
    "N = 4\n",
    "friends_parts_ = np.array_split(f_s, N)\n",
    "\n",
    "for i, part in enumerate(friends_parts_):\n",
    "    part.to_csv(f'friends_partie_{i+1}.csv', index=False)"
   ]
  }
 ],
 "metadata": {
  "kernelspec": {
   "display_name": "Python 3",
   "language": "python",
   "name": "python3"
  },
  "language_info": {
   "codemirror_mode": {
    "name": "ipython",
    "version": 3
   },
   "file_extension": ".py",
   "mimetype": "text/x-python",
   "name": "python",
   "nbconvert_exporter": "python",
   "pygments_lexer": "ipython3",
   "version": "3.13.2"
  }
 },
 "nbformat": 4,
 "nbformat_minor": 2
}
