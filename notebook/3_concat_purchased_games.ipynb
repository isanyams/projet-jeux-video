{
 "cells": [
  {
   "cell_type": "code",
   "execution_count": 29,
   "metadata": {},
   "outputs": [],
   "source": [
    "import pandas as pd\n",
    "import ast"
   ]
  },
  {
   "cell_type": "code",
   "execution_count": 2,
   "metadata": {},
   "outputs": [
    {
     "data": {
      "text/html": [
       "<div>\n",
       "<style scoped>\n",
       "    .dataframe tbody tr th:only-of-type {\n",
       "        vertical-align: middle;\n",
       "    }\n",
       "\n",
       "    .dataframe tbody tr th {\n",
       "        vertical-align: top;\n",
       "    }\n",
       "\n",
       "    .dataframe thead th {\n",
       "        text-align: right;\n",
       "    }\n",
       "</style>\n",
       "<table border=\"1\" class=\"dataframe\">\n",
       "  <thead>\n",
       "    <tr style=\"text-align: right;\">\n",
       "      <th></th>\n",
       "      <th>playerid</th>\n",
       "      <th>library</th>\n",
       "    </tr>\n",
       "  </thead>\n",
       "  <tbody>\n",
       "    <tr>\n",
       "      <th>0</th>\n",
       "      <td>268071</td>\n",
       "      <td>[14972, 417905, 14693, 7742, 20162, 461983, 12...</td>\n",
       "    </tr>\n",
       "    <tr>\n",
       "      <th>1</th>\n",
       "      <td>2218485</td>\n",
       "      <td>[410618, 17456, 16034, 138931, 175202, 331007,...</td>\n",
       "    </tr>\n",
       "    <tr>\n",
       "      <th>2</th>\n",
       "      <td>253885</td>\n",
       "      <td>[417808, 706747, 619583, 492711, 555631, 18167...</td>\n",
       "    </tr>\n",
       "    <tr>\n",
       "      <th>3</th>\n",
       "      <td>1911732</td>\n",
       "      <td>[670209, 694794, 658551, 582894, 602666, 65531...</td>\n",
       "    </tr>\n",
       "    <tr>\n",
       "      <th>4</th>\n",
       "      <td>3098524</td>\n",
       "      <td>[19362, 170350, 12653, 20230, 12750, 18141, 41...</td>\n",
       "    </tr>\n",
       "  </tbody>\n",
       "</table>\n",
       "</div>"
      ],
      "text/plain": [
       "   playerid                                            library\n",
       "0    268071  [14972, 417905, 14693, 7742, 20162, 461983, 12...\n",
       "1   2218485  [410618, 17456, 16034, 138931, 175202, 331007,...\n",
       "2    253885  [417808, 706747, 619583, 492711, 555631, 18167...\n",
       "3   1911732  [670209, 694794, 658551, 582894, 602666, 65531...\n",
       "4   3098524  [19362, 170350, 12653, 20230, 12750, 18141, 41..."
      ]
     },
     "execution_count": 2,
     "metadata": {},
     "output_type": "execute_result"
    }
   ],
   "source": [
    "pd.set_option(\"display.max_columns\", None)\n",
    "play_purchased_games=pd.read_csv(\"src/game/playstation/purchased_games.csv\")\n",
    "play_purchased_games.head()"
   ]
  },
  {
   "cell_type": "code",
   "execution_count": 4,
   "metadata": {},
   "outputs": [
    {
     "data": {
      "text/html": [
       "<div>\n",
       "<style scoped>\n",
       "    .dataframe tbody tr th:only-of-type {\n",
       "        vertical-align: middle;\n",
       "    }\n",
       "\n",
       "    .dataframe tbody tr th {\n",
       "        vertical-align: top;\n",
       "    }\n",
       "\n",
       "    .dataframe thead th {\n",
       "        text-align: right;\n",
       "    }\n",
       "</style>\n",
       "<table border=\"1\" class=\"dataframe\">\n",
       "  <thead>\n",
       "    <tr style=\"text-align: right;\">\n",
       "      <th></th>\n",
       "      <th>playerid</th>\n",
       "      <th>library</th>\n",
       "    </tr>\n",
       "  </thead>\n",
       "  <tbody>\n",
       "    <tr>\n",
       "      <th>0</th>\n",
       "      <td>76561198060698936</td>\n",
       "      <td>[60, 1670, 3830, 1600, 2900, 2910, 2920, 4800,...</td>\n",
       "    </tr>\n",
       "    <tr>\n",
       "      <th>1</th>\n",
       "      <td>76561198287452552</td>\n",
       "      <td>[10, 80, 100, 240, 2990, 6880, 6910, 6920, 698...</td>\n",
       "    </tr>\n",
       "    <tr>\n",
       "      <th>2</th>\n",
       "      <td>76561198040436563</td>\n",
       "      <td>[10, 80, 100, 300, 20, 30, 40, 50, 60, 70, 130...</td>\n",
       "    </tr>\n",
       "    <tr>\n",
       "      <th>3</th>\n",
       "      <td>76561198042412488</td>\n",
       "      <td>[300, 240, 220, 320, 360, 4300, 4800, 4000, 61...</td>\n",
       "    </tr>\n",
       "    <tr>\n",
       "      <th>4</th>\n",
       "      <td>76561198119605821</td>\n",
       "      <td>[47870, 108600, 550, 271590, 331470, 381210, 2...</td>\n",
       "    </tr>\n",
       "  </tbody>\n",
       "</table>\n",
       "</div>"
      ],
      "text/plain": [
       "            playerid                                            library\n",
       "0  76561198060698936  [60, 1670, 3830, 1600, 2900, 2910, 2920, 4800,...\n",
       "1  76561198287452552  [10, 80, 100, 240, 2990, 6880, 6910, 6920, 698...\n",
       "2  76561198040436563  [10, 80, 100, 300, 20, 30, 40, 50, 60, 70, 130...\n",
       "3  76561198042412488  [300, 240, 220, 320, 360, 4300, 4800, 4000, 61...\n",
       "4  76561198119605821  [47870, 108600, 550, 271590, 331470, 381210, 2..."
      ]
     },
     "execution_count": 4,
     "metadata": {},
     "output_type": "execute_result"
    }
   ],
   "source": [
    "pd.set_option(\"display.max_columns\", None)\n",
    "steam_purchased_games=pd.read_csv(\"src/game/steam/purchased_games.csv\")\n",
    "steam_purchased_games.head()"
   ]
  },
  {
   "cell_type": "code",
   "execution_count": 5,
   "metadata": {},
   "outputs": [
    {
     "data": {
      "text/html": [
       "<div>\n",
       "<style scoped>\n",
       "    .dataframe tbody tr th:only-of-type {\n",
       "        vertical-align: middle;\n",
       "    }\n",
       "\n",
       "    .dataframe tbody tr th {\n",
       "        vertical-align: top;\n",
       "    }\n",
       "\n",
       "    .dataframe thead th {\n",
       "        text-align: right;\n",
       "    }\n",
       "</style>\n",
       "<table border=\"1\" class=\"dataframe\">\n",
       "  <thead>\n",
       "    <tr style=\"text-align: right;\">\n",
       "      <th></th>\n",
       "      <th>playerid</th>\n",
       "      <th>library</th>\n",
       "    </tr>\n",
       "  </thead>\n",
       "  <tbody>\n",
       "    <tr>\n",
       "      <th>0</th>\n",
       "      <td>848738</td>\n",
       "      <td>[14711, 2128, 10783, 9118, 7235, 9637, 717236,...</td>\n",
       "    </tr>\n",
       "    <tr>\n",
       "      <th>1</th>\n",
       "      <td>848736</td>\n",
       "      <td>[707376, 747223, 550303, 620354, 734202, 74678...</td>\n",
       "    </tr>\n",
       "    <tr>\n",
       "      <th>2</th>\n",
       "      <td>1470783</td>\n",
       "      <td>[638932, 32551, 748147, 468697, 446682, 615753...</td>\n",
       "    </tr>\n",
       "    <tr>\n",
       "      <th>3</th>\n",
       "      <td>848735</td>\n",
       "      <td>[736287, 555825, 717258, 422060, 12645, 550263...</td>\n",
       "    </tr>\n",
       "    <tr>\n",
       "      <th>4</th>\n",
       "      <td>848739</td>\n",
       "      <td>[698325, 443814, 745210, 747223, 734202, 71154...</td>\n",
       "    </tr>\n",
       "  </tbody>\n",
       "</table>\n",
       "</div>"
      ],
      "text/plain": [
       "   playerid                                            library\n",
       "0    848738  [14711, 2128, 10783, 9118, 7235, 9637, 717236,...\n",
       "1    848736  [707376, 747223, 550303, 620354, 734202, 74678...\n",
       "2   1470783  [638932, 32551, 748147, 468697, 446682, 615753...\n",
       "3    848735  [736287, 555825, 717258, 422060, 12645, 550263...\n",
       "4    848739  [698325, 443814, 745210, 747223, 734202, 71154..."
      ]
     },
     "execution_count": 5,
     "metadata": {},
     "output_type": "execute_result"
    }
   ],
   "source": [
    "pd.set_option(\"display.max_columns\", None)\n",
    "xbox_purchased_games=pd.read_csv(\"src/game/xbox/purchased_games.csv\")\n",
    "xbox_purchased_games.head()"
   ]
  },
  {
   "cell_type": "code",
   "execution_count": 6,
   "metadata": {},
   "outputs": [
    {
     "data": {
      "text/html": [
       "<div>\n",
       "<style scoped>\n",
       "    .dataframe tbody tr th:only-of-type {\n",
       "        vertical-align: middle;\n",
       "    }\n",
       "\n",
       "    .dataframe tbody tr th {\n",
       "        vertical-align: top;\n",
       "    }\n",
       "\n",
       "    .dataframe thead th {\n",
       "        text-align: right;\n",
       "    }\n",
       "</style>\n",
       "<table border=\"1\" class=\"dataframe\">\n",
       "  <thead>\n",
       "    <tr style=\"text-align: right;\">\n",
       "      <th></th>\n",
       "      <th>playerid</th>\n",
       "      <th>library</th>\n",
       "      <th>plateforme</th>\n",
       "    </tr>\n",
       "  </thead>\n",
       "  <tbody>\n",
       "    <tr>\n",
       "      <th>0</th>\n",
       "      <td>268071</td>\n",
       "      <td>[14972, 417905, 14693, 7742, 20162, 461983, 12...</td>\n",
       "      <td>playstation</td>\n",
       "    </tr>\n",
       "    <tr>\n",
       "      <th>1</th>\n",
       "      <td>2218485</td>\n",
       "      <td>[410618, 17456, 16034, 138931, 175202, 331007,...</td>\n",
       "      <td>playstation</td>\n",
       "    </tr>\n",
       "    <tr>\n",
       "      <th>2</th>\n",
       "      <td>253885</td>\n",
       "      <td>[417808, 706747, 619583, 492711, 555631, 18167...</td>\n",
       "      <td>playstation</td>\n",
       "    </tr>\n",
       "    <tr>\n",
       "      <th>3</th>\n",
       "      <td>1911732</td>\n",
       "      <td>[670209, 694794, 658551, 582894, 602666, 65531...</td>\n",
       "      <td>playstation</td>\n",
       "    </tr>\n",
       "    <tr>\n",
       "      <th>4</th>\n",
       "      <td>3098524</td>\n",
       "      <td>[19362, 170350, 12653, 20230, 12750, 18141, 41...</td>\n",
       "      <td>playstation</td>\n",
       "    </tr>\n",
       "  </tbody>\n",
       "</table>\n",
       "</div>"
      ],
      "text/plain": [
       "   playerid                                            library   plateforme\n",
       "0    268071  [14972, 417905, 14693, 7742, 20162, 461983, 12...  playstation\n",
       "1   2218485  [410618, 17456, 16034, 138931, 175202, 331007,...  playstation\n",
       "2    253885  [417808, 706747, 619583, 492711, 555631, 18167...  playstation\n",
       "3   1911732  [670209, 694794, 658551, 582894, 602666, 65531...  playstation\n",
       "4   3098524  [19362, 170350, 12653, 20230, 12750, 18141, 41...  playstation"
      ]
     },
     "execution_count": 6,
     "metadata": {},
     "output_type": "execute_result"
    }
   ],
   "source": [
    "# ajouter une colonne plateforme pour playstation\n",
    "\n",
    "play_purchased_games[\"plateforme\"]=\"playstation\"\n",
    "play_purchased_games.head()"
   ]
  },
  {
   "cell_type": "code",
   "execution_count": 7,
   "metadata": {},
   "outputs": [
    {
     "data": {
      "text/html": [
       "<div>\n",
       "<style scoped>\n",
       "    .dataframe tbody tr th:only-of-type {\n",
       "        vertical-align: middle;\n",
       "    }\n",
       "\n",
       "    .dataframe tbody tr th {\n",
       "        vertical-align: top;\n",
       "    }\n",
       "\n",
       "    .dataframe thead th {\n",
       "        text-align: right;\n",
       "    }\n",
       "</style>\n",
       "<table border=\"1\" class=\"dataframe\">\n",
       "  <thead>\n",
       "    <tr style=\"text-align: right;\">\n",
       "      <th></th>\n",
       "      <th>playerid</th>\n",
       "      <th>library</th>\n",
       "      <th>plateforme</th>\n",
       "    </tr>\n",
       "  </thead>\n",
       "  <tbody>\n",
       "    <tr>\n",
       "      <th>0</th>\n",
       "      <td>76561198060698936</td>\n",
       "      <td>[60, 1670, 3830, 1600, 2900, 2910, 2920, 4800,...</td>\n",
       "      <td>steam</td>\n",
       "    </tr>\n",
       "    <tr>\n",
       "      <th>1</th>\n",
       "      <td>76561198287452552</td>\n",
       "      <td>[10, 80, 100, 240, 2990, 6880, 6910, 6920, 698...</td>\n",
       "      <td>steam</td>\n",
       "    </tr>\n",
       "    <tr>\n",
       "      <th>2</th>\n",
       "      <td>76561198040436563</td>\n",
       "      <td>[10, 80, 100, 300, 20, 30, 40, 50, 60, 70, 130...</td>\n",
       "      <td>steam</td>\n",
       "    </tr>\n",
       "    <tr>\n",
       "      <th>3</th>\n",
       "      <td>76561198042412488</td>\n",
       "      <td>[300, 240, 220, 320, 360, 4300, 4800, 4000, 61...</td>\n",
       "      <td>steam</td>\n",
       "    </tr>\n",
       "    <tr>\n",
       "      <th>4</th>\n",
       "      <td>76561198119605821</td>\n",
       "      <td>[47870, 108600, 550, 271590, 331470, 381210, 2...</td>\n",
       "      <td>steam</td>\n",
       "    </tr>\n",
       "  </tbody>\n",
       "</table>\n",
       "</div>"
      ],
      "text/plain": [
       "            playerid                                            library  \\\n",
       "0  76561198060698936  [60, 1670, 3830, 1600, 2900, 2910, 2920, 4800,...   \n",
       "1  76561198287452552  [10, 80, 100, 240, 2990, 6880, 6910, 6920, 698...   \n",
       "2  76561198040436563  [10, 80, 100, 300, 20, 30, 40, 50, 60, 70, 130...   \n",
       "3  76561198042412488  [300, 240, 220, 320, 360, 4300, 4800, 4000, 61...   \n",
       "4  76561198119605821  [47870, 108600, 550, 271590, 331470, 381210, 2...   \n",
       "\n",
       "  plateforme  \n",
       "0      steam  \n",
       "1      steam  \n",
       "2      steam  \n",
       "3      steam  \n",
       "4      steam  "
      ]
     },
     "execution_count": 7,
     "metadata": {},
     "output_type": "execute_result"
    }
   ],
   "source": [
    "# ajouter une colonne plateforme pour steam\n",
    "\n",
    "steam_purchased_games[\"plateforme\"]=\"steam\"\n",
    "steam_purchased_games.head()"
   ]
  },
  {
   "cell_type": "code",
   "execution_count": 8,
   "metadata": {},
   "outputs": [
    {
     "data": {
      "text/html": [
       "<div>\n",
       "<style scoped>\n",
       "    .dataframe tbody tr th:only-of-type {\n",
       "        vertical-align: middle;\n",
       "    }\n",
       "\n",
       "    .dataframe tbody tr th {\n",
       "        vertical-align: top;\n",
       "    }\n",
       "\n",
       "    .dataframe thead th {\n",
       "        text-align: right;\n",
       "    }\n",
       "</style>\n",
       "<table border=\"1\" class=\"dataframe\">\n",
       "  <thead>\n",
       "    <tr style=\"text-align: right;\">\n",
       "      <th></th>\n",
       "      <th>playerid</th>\n",
       "      <th>library</th>\n",
       "      <th>plateforme</th>\n",
       "    </tr>\n",
       "  </thead>\n",
       "  <tbody>\n",
       "    <tr>\n",
       "      <th>0</th>\n",
       "      <td>848738</td>\n",
       "      <td>[14711, 2128, 10783, 9118, 7235, 9637, 717236,...</td>\n",
       "      <td>xbox</td>\n",
       "    </tr>\n",
       "    <tr>\n",
       "      <th>1</th>\n",
       "      <td>848736</td>\n",
       "      <td>[707376, 747223, 550303, 620354, 734202, 74678...</td>\n",
       "      <td>xbox</td>\n",
       "    </tr>\n",
       "    <tr>\n",
       "      <th>2</th>\n",
       "      <td>1470783</td>\n",
       "      <td>[638932, 32551, 748147, 468697, 446682, 615753...</td>\n",
       "      <td>xbox</td>\n",
       "    </tr>\n",
       "    <tr>\n",
       "      <th>3</th>\n",
       "      <td>848735</td>\n",
       "      <td>[736287, 555825, 717258, 422060, 12645, 550263...</td>\n",
       "      <td>xbox</td>\n",
       "    </tr>\n",
       "    <tr>\n",
       "      <th>4</th>\n",
       "      <td>848739</td>\n",
       "      <td>[698325, 443814, 745210, 747223, 734202, 71154...</td>\n",
       "      <td>xbox</td>\n",
       "    </tr>\n",
       "  </tbody>\n",
       "</table>\n",
       "</div>"
      ],
      "text/plain": [
       "   playerid                                            library plateforme\n",
       "0    848738  [14711, 2128, 10783, 9118, 7235, 9637, 717236,...       xbox\n",
       "1    848736  [707376, 747223, 550303, 620354, 734202, 74678...       xbox\n",
       "2   1470783  [638932, 32551, 748147, 468697, 446682, 615753...       xbox\n",
       "3    848735  [736287, 555825, 717258, 422060, 12645, 550263...       xbox\n",
       "4    848739  [698325, 443814, 745210, 747223, 734202, 71154...       xbox"
      ]
     },
     "execution_count": 8,
     "metadata": {},
     "output_type": "execute_result"
    }
   ],
   "source": [
    "# ajouter une colonne plateforme pour xbox\n",
    "\n",
    "xbox_purchased_games[\"plateforme\"]=\"xbox\"\n",
    "xbox_purchased_games.head()"
   ]
  },
  {
   "cell_type": "code",
   "execution_count": 9,
   "metadata": {},
   "outputs": [],
   "source": [
    "# concatenation et avec ignore rajouter index en suivant bon ordre\n",
    "\n",
    "purchased_games=pd.concat([play_purchased_games,steam_purchased_games,xbox_purchased_games], ignore_index=True)"
   ]
  },
  {
   "cell_type": "code",
   "execution_count": 10,
   "metadata": {},
   "outputs": [
    {
     "data": {
      "text/html": [
       "<div>\n",
       "<style scoped>\n",
       "    .dataframe tbody tr th:only-of-type {\n",
       "        vertical-align: middle;\n",
       "    }\n",
       "\n",
       "    .dataframe tbody tr th {\n",
       "        vertical-align: top;\n",
       "    }\n",
       "\n",
       "    .dataframe thead th {\n",
       "        text-align: right;\n",
       "    }\n",
       "</style>\n",
       "<table border=\"1\" class=\"dataframe\">\n",
       "  <thead>\n",
       "    <tr style=\"text-align: right;\">\n",
       "      <th></th>\n",
       "      <th>playerid</th>\n",
       "      <th>library</th>\n",
       "      <th>plateforme</th>\n",
       "    </tr>\n",
       "  </thead>\n",
       "  <tbody>\n",
       "    <tr>\n",
       "      <th>0</th>\n",
       "      <td>268071</td>\n",
       "      <td>[14972, 417905, 14693, 7742, 20162, 461983, 12...</td>\n",
       "      <td>playstation</td>\n",
       "    </tr>\n",
       "    <tr>\n",
       "      <th>1</th>\n",
       "      <td>2218485</td>\n",
       "      <td>[410618, 17456, 16034, 138931, 175202, 331007,...</td>\n",
       "      <td>playstation</td>\n",
       "    </tr>\n",
       "    <tr>\n",
       "      <th>2</th>\n",
       "      <td>253885</td>\n",
       "      <td>[417808, 706747, 619583, 492711, 555631, 18167...</td>\n",
       "      <td>playstation</td>\n",
       "    </tr>\n",
       "    <tr>\n",
       "      <th>3</th>\n",
       "      <td>1911732</td>\n",
       "      <td>[670209, 694794, 658551, 582894, 602666, 65531...</td>\n",
       "      <td>playstation</td>\n",
       "    </tr>\n",
       "    <tr>\n",
       "      <th>4</th>\n",
       "      <td>3098524</td>\n",
       "      <td>[19362, 170350, 12653, 20230, 12750, 18141, 41...</td>\n",
       "      <td>playstation</td>\n",
       "    </tr>\n",
       "  </tbody>\n",
       "</table>\n",
       "</div>"
      ],
      "text/plain": [
       "   playerid                                            library   plateforme\n",
       "0    268071  [14972, 417905, 14693, 7742, 20162, 461983, 12...  playstation\n",
       "1   2218485  [410618, 17456, 16034, 138931, 175202, 331007,...  playstation\n",
       "2    253885  [417808, 706747, 619583, 492711, 555631, 18167...  playstation\n",
       "3   1911732  [670209, 694794, 658551, 582894, 602666, 65531...  playstation\n",
       "4   3098524  [19362, 170350, 12653, 20230, 12750, 18141, 41...  playstation"
      ]
     },
     "execution_count": 10,
     "metadata": {},
     "output_type": "execute_result"
    }
   ],
   "source": [
    "purchased_games.head()"
   ]
  },
  {
   "cell_type": "code",
   "execution_count": 13,
   "metadata": {},
   "outputs": [],
   "source": [
    "# creer le fichier concatené source\n",
    "\n",
    "purchased_games.to_csv(\"out/purchased_games_source.csv\")"
   ]
  },
  {
   "cell_type": "code",
   "execution_count": 17,
   "metadata": {},
   "outputs": [
    {
     "data": {
      "text/plain": [
       "(195596, 4)"
      ]
     },
     "execution_count": 17,
     "metadata": {},
     "output_type": "execute_result"
    }
   ],
   "source": [
    "purchased_games.shape"
   ]
  },
  {
   "cell_type": "code",
   "execution_count": 14,
   "metadata": {},
   "outputs": [
    {
     "data": {
      "text/html": [
       "<div>\n",
       "<style scoped>\n",
       "    .dataframe tbody tr th:only-of-type {\n",
       "        vertical-align: middle;\n",
       "    }\n",
       "\n",
       "    .dataframe tbody tr th {\n",
       "        vertical-align: top;\n",
       "    }\n",
       "\n",
       "    .dataframe thead th {\n",
       "        text-align: right;\n",
       "    }\n",
       "</style>\n",
       "<table border=\"1\" class=\"dataframe\">\n",
       "  <thead>\n",
       "    <tr style=\"text-align: right;\">\n",
       "      <th></th>\n",
       "      <th>playerid</th>\n",
       "      <th>library</th>\n",
       "      <th>plateforme</th>\n",
       "      <th>count</th>\n",
       "    </tr>\n",
       "  </thead>\n",
       "  <tbody>\n",
       "    <tr>\n",
       "      <th>0</th>\n",
       "      <td>268071</td>\n",
       "      <td>[14972, 417905, 14693, 7742, 20162, 461983, 12...</td>\n",
       "      <td>playstation</td>\n",
       "      <td>1701</td>\n",
       "    </tr>\n",
       "    <tr>\n",
       "      <th>1</th>\n",
       "      <td>2218485</td>\n",
       "      <td>[410618, 17456, 16034, 138931, 175202, 331007,...</td>\n",
       "      <td>playstation</td>\n",
       "      <td>6299</td>\n",
       "    </tr>\n",
       "    <tr>\n",
       "      <th>2</th>\n",
       "      <td>253885</td>\n",
       "      <td>[417808, 706747, 619583, 492711, 555631, 18167...</td>\n",
       "      <td>playstation</td>\n",
       "      <td>299</td>\n",
       "    </tr>\n",
       "    <tr>\n",
       "      <th>3</th>\n",
       "      <td>1911732</td>\n",
       "      <td>[670209, 694794, 658551, 582894, 602666, 65531...</td>\n",
       "      <td>playstation</td>\n",
       "      <td>968</td>\n",
       "    </tr>\n",
       "    <tr>\n",
       "      <th>4</th>\n",
       "      <td>3098524</td>\n",
       "      <td>[19362, 170350, 12653, 20230, 12750, 18141, 41...</td>\n",
       "      <td>playstation</td>\n",
       "      <td>1223</td>\n",
       "    </tr>\n",
       "  </tbody>\n",
       "</table>\n",
       "</div>"
      ],
      "text/plain": [
       "   playerid                                            library   plateforme  \\\n",
       "0    268071  [14972, 417905, 14693, 7742, 20162, 461983, 12...  playstation   \n",
       "1   2218485  [410618, 17456, 16034, 138931, 175202, 331007,...  playstation   \n",
       "2    253885  [417808, 706747, 619583, 492711, 555631, 18167...  playstation   \n",
       "3   1911732  [670209, 694794, 658551, 582894, 602666, 65531...  playstation   \n",
       "4   3098524  [19362, 170350, 12653, 20230, 12750, 18141, 41...  playstation   \n",
       "\n",
       "   count  \n",
       "0   1701  \n",
       "1   6299  \n",
       "2    299  \n",
       "3    968  \n",
       "4   1223  "
      ]
     },
     "execution_count": 14,
     "metadata": {},
     "output_type": "execute_result"
    }
   ],
   "source": [
    "# ajouter une colonne count avec lambdas\n",
    "# rappel lambdas: pour chaque valeur de x met 0 s'il n'y a rien, sinon tu fais le nombre d'éléments dans la liste\n",
    "\n",
    "\n",
    "purchased_games[\"count\"]=purchased_games[\"library\"].apply (\n",
    "                                        lambda x:                                         \n",
    "                                          0 if pd.isnull(x)\n",
    "                                          else len(x)                                         \n",
    "                                          \n",
    ")\n",
    "\n",
    "purchased_games.head()"
   ]
  },
  {
   "cell_type": "code",
   "execution_count": 15,
   "metadata": {},
   "outputs": [],
   "source": [
    "# enregistrer le nouveau fichier\n",
    "\n",
    "purchased_games.to_csv(\"out/purchased_games_count.csv\")"
   ]
  },
  {
   "cell_type": "markdown",
   "metadata": {},
   "source": [
    "Créer dataframe avec explode pour faciliter les merges et faire des statistiques sur le lien entre les joueurs et les jeux"
   ]
  },
  {
   "cell_type": "code",
   "execution_count": 34,
   "metadata": {},
   "outputs": [],
   "source": [
    "\n",
    "purchased_games=pd.read_csv(\"out/purchased_games_source.csv\",index_col=0)"
   ]
  },
  {
   "cell_type": "code",
   "execution_count": 35,
   "metadata": {},
   "outputs": [
    {
     "data": {
      "text/html": [
       "<div>\n",
       "<style scoped>\n",
       "    .dataframe tbody tr th:only-of-type {\n",
       "        vertical-align: middle;\n",
       "    }\n",
       "\n",
       "    .dataframe tbody tr th {\n",
       "        vertical-align: top;\n",
       "    }\n",
       "\n",
       "    .dataframe thead th {\n",
       "        text-align: right;\n",
       "    }\n",
       "</style>\n",
       "<table border=\"1\" class=\"dataframe\">\n",
       "  <thead>\n",
       "    <tr style=\"text-align: right;\">\n",
       "      <th></th>\n",
       "      <th>playerid</th>\n",
       "      <th>library</th>\n",
       "      <th>plateforme</th>\n",
       "    </tr>\n",
       "  </thead>\n",
       "  <tbody>\n",
       "    <tr>\n",
       "      <th>0</th>\n",
       "      <td>268071</td>\n",
       "      <td>[14972, 417905, 14693, 7742, 20162, 461983, 12...</td>\n",
       "      <td>playstation</td>\n",
       "    </tr>\n",
       "    <tr>\n",
       "      <th>1</th>\n",
       "      <td>2218485</td>\n",
       "      <td>[410618, 17456, 16034, 138931, 175202, 331007,...</td>\n",
       "      <td>playstation</td>\n",
       "    </tr>\n",
       "    <tr>\n",
       "      <th>2</th>\n",
       "      <td>253885</td>\n",
       "      <td>[417808, 706747, 619583, 492711, 555631, 18167...</td>\n",
       "      <td>playstation</td>\n",
       "    </tr>\n",
       "    <tr>\n",
       "      <th>3</th>\n",
       "      <td>1911732</td>\n",
       "      <td>[670209, 694794, 658551, 582894, 602666, 65531...</td>\n",
       "      <td>playstation</td>\n",
       "    </tr>\n",
       "    <tr>\n",
       "      <th>4</th>\n",
       "      <td>3098524</td>\n",
       "      <td>[19362, 170350, 12653, 20230, 12750, 18141, 41...</td>\n",
       "      <td>playstation</td>\n",
       "    </tr>\n",
       "  </tbody>\n",
       "</table>\n",
       "</div>"
      ],
      "text/plain": [
       "   playerid                                            library   plateforme\n",
       "0    268071  [14972, 417905, 14693, 7742, 20162, 461983, 12...  playstation\n",
       "1   2218485  [410618, 17456, 16034, 138931, 175202, 331007,...  playstation\n",
       "2    253885  [417808, 706747, 619583, 492711, 555631, 18167...  playstation\n",
       "3   1911732  [670209, 694794, 658551, 582894, 602666, 65531...  playstation\n",
       "4   3098524  [19362, 170350, 12653, 20230, 12750, 18141, 41...  playstation"
      ]
     },
     "execution_count": 35,
     "metadata": {},
     "output_type": "execute_result"
    }
   ],
   "source": [
    "purchased_games.head()"
   ]
  },
  {
   "cell_type": "code",
   "execution_count": 36,
   "metadata": {},
   "outputs": [
    {
     "data": {
      "text/plain": [
       "str"
      ]
     },
     "execution_count": 36,
     "metadata": {},
     "output_type": "execute_result"
    }
   ],
   "source": [
    "# regarder type de premiere ligne de la colonne library\n",
    "\n",
    "type(purchased_games['library'].iloc[0])"
   ]
  },
  {
   "cell_type": "code",
   "execution_count": 37,
   "metadata": {},
   "outputs": [
    {
     "data": {
      "text/plain": [
       "playerid          0\n",
       "library       55607\n",
       "plateforme        0\n",
       "dtype: int64"
      ]
     },
     "execution_count": 37,
     "metadata": {},
     "output_type": "execute_result"
    }
   ],
   "source": [
    "# calculer le nombre des valeurs manquantes \n",
    "\n",
    "purchased_games.isnull().sum()"
   ]
  },
  {
   "cell_type": "code",
   "execution_count": 38,
   "metadata": {},
   "outputs": [
    {
     "data": {
      "text/html": [
       "<div>\n",
       "<style scoped>\n",
       "    .dataframe tbody tr th:only-of-type {\n",
       "        vertical-align: middle;\n",
       "    }\n",
       "\n",
       "    .dataframe tbody tr th {\n",
       "        vertical-align: top;\n",
       "    }\n",
       "\n",
       "    .dataframe thead th {\n",
       "        text-align: right;\n",
       "    }\n",
       "</style>\n",
       "<table border=\"1\" class=\"dataframe\">\n",
       "  <thead>\n",
       "    <tr style=\"text-align: right;\">\n",
       "      <th></th>\n",
       "      <th>playerid</th>\n",
       "      <th>library</th>\n",
       "      <th>plateforme</th>\n",
       "    </tr>\n",
       "  </thead>\n",
       "  <tbody>\n",
       "    <tr>\n",
       "      <th>0</th>\n",
       "      <td>268071</td>\n",
       "      <td>[14972, 417905, 14693, 7742, 20162, 461983, 12...</td>\n",
       "      <td>playstation</td>\n",
       "    </tr>\n",
       "    <tr>\n",
       "      <th>1</th>\n",
       "      <td>2218485</td>\n",
       "      <td>[410618, 17456, 16034, 138931, 175202, 331007,...</td>\n",
       "      <td>playstation</td>\n",
       "    </tr>\n",
       "    <tr>\n",
       "      <th>2</th>\n",
       "      <td>253885</td>\n",
       "      <td>[417808, 706747, 619583, 492711, 555631, 18167...</td>\n",
       "      <td>playstation</td>\n",
       "    </tr>\n",
       "    <tr>\n",
       "      <th>3</th>\n",
       "      <td>1911732</td>\n",
       "      <td>[670209, 694794, 658551, 582894, 602666, 65531...</td>\n",
       "      <td>playstation</td>\n",
       "    </tr>\n",
       "    <tr>\n",
       "      <th>4</th>\n",
       "      <td>3098524</td>\n",
       "      <td>[19362, 170350, 12653, 20230, 12750, 18141, 41...</td>\n",
       "      <td>playstation</td>\n",
       "    </tr>\n",
       "  </tbody>\n",
       "</table>\n",
       "</div>"
      ],
      "text/plain": [
       "   playerid                                            library   plateforme\n",
       "0    268071  [14972, 417905, 14693, 7742, 20162, 461983, 12...  playstation\n",
       "1   2218485  [410618, 17456, 16034, 138931, 175202, 331007,...  playstation\n",
       "2    253885  [417808, 706747, 619583, 492711, 555631, 18167...  playstation\n",
       "3   1911732  [670209, 694794, 658551, 582894, 602666, 65531...  playstation\n",
       "4   3098524  [19362, 170350, 12653, 20230, 12750, 18141, 41...  playstation"
      ]
     },
     "execution_count": 38,
     "metadata": {},
     "output_type": "execute_result"
    }
   ],
   "source": [
    "# mettre les valeurs manquantes en liste pour garder les joueurs sans jeu pour sortir le nombre de joueurs actif par plateforme\n",
    "\n",
    "\n",
    "purchased_games[\"library\"]=purchased_games[\"library\"].apply (\n",
    "                                        lambda x:                                         \n",
    "                                          \"[]\" if pd.isnull(x)\n",
    "                                          else x                                       \n",
    "                                          \n",
    ")\n",
    "\n",
    "purchased_games.head()"
   ]
  },
  {
   "cell_type": "code",
   "execution_count": 39,
   "metadata": {},
   "outputs": [
    {
     "data": {
      "text/plain": [
       "playerid      0\n",
       "library       0\n",
       "plateforme    0\n",
       "dtype: int64"
      ]
     },
     "execution_count": 39,
     "metadata": {},
     "output_type": "execute_result"
    }
   ],
   "source": [
    "# vérifier le nombre des valeurs manquantes \n",
    "\n",
    "purchased_games.isnull().sum()"
   ]
  },
  {
   "cell_type": "code",
   "execution_count": 40,
   "metadata": {},
   "outputs": [],
   "source": [
    "# mettre tout en type liste pour pouvoir faire explode après\n",
    "\n",
    "purchased_games['library'] = purchased_games['library'].apply(ast.literal_eval)\n",
    "\n"
   ]
  },
  {
   "cell_type": "code",
   "execution_count": 41,
   "metadata": {},
   "outputs": [],
   "source": [
    "# split (avec explode) pour transformer la liste des valeurs en autant de lignes qu'il y a d'élément dans la liste \n",
    "# pour deux buts: \n",
    "# 1) nb de jeux par joueur (avec groupby et sum)\n",
    "# 2) nb de joueurs par jeu (avec groupby et sum)\n",
    "\n",
    "purchased_games_splitlibrary = purchased_games.explode('library')\n"
   ]
  },
  {
   "cell_type": "code",
   "execution_count": 42,
   "metadata": {},
   "outputs": [
    {
     "data": {
      "text/html": [
       "<div>\n",
       "<style scoped>\n",
       "    .dataframe tbody tr th:only-of-type {\n",
       "        vertical-align: middle;\n",
       "    }\n",
       "\n",
       "    .dataframe tbody tr th {\n",
       "        vertical-align: top;\n",
       "    }\n",
       "\n",
       "    .dataframe thead th {\n",
       "        text-align: right;\n",
       "    }\n",
       "</style>\n",
       "<table border=\"1\" class=\"dataframe\">\n",
       "  <thead>\n",
       "    <tr style=\"text-align: right;\">\n",
       "      <th></th>\n",
       "      <th>playerid</th>\n",
       "      <th>library</th>\n",
       "      <th>plateforme</th>\n",
       "    </tr>\n",
       "  </thead>\n",
       "  <tbody>\n",
       "    <tr>\n",
       "      <th>0</th>\n",
       "      <td>268071</td>\n",
       "      <td>14972</td>\n",
       "      <td>playstation</td>\n",
       "    </tr>\n",
       "    <tr>\n",
       "      <th>0</th>\n",
       "      <td>268071</td>\n",
       "      <td>417905</td>\n",
       "      <td>playstation</td>\n",
       "    </tr>\n",
       "    <tr>\n",
       "      <th>0</th>\n",
       "      <td>268071</td>\n",
       "      <td>14693</td>\n",
       "      <td>playstation</td>\n",
       "    </tr>\n",
       "    <tr>\n",
       "      <th>0</th>\n",
       "      <td>268071</td>\n",
       "      <td>7742</td>\n",
       "      <td>playstation</td>\n",
       "    </tr>\n",
       "    <tr>\n",
       "      <th>0</th>\n",
       "      <td>268071</td>\n",
       "      <td>20162</td>\n",
       "      <td>playstation</td>\n",
       "    </tr>\n",
       "    <tr>\n",
       "      <th>...</th>\n",
       "      <td>...</td>\n",
       "      <td>...</td>\n",
       "      <td>...</td>\n",
       "    </tr>\n",
       "    <tr>\n",
       "      <th>195595</th>\n",
       "      <td>4017053</td>\n",
       "      <td>2526</td>\n",
       "      <td>xbox</td>\n",
       "    </tr>\n",
       "    <tr>\n",
       "      <th>195595</th>\n",
       "      <td>4017053</td>\n",
       "      <td>6889</td>\n",
       "      <td>xbox</td>\n",
       "    </tr>\n",
       "    <tr>\n",
       "      <th>195595</th>\n",
       "      <td>4017053</td>\n",
       "      <td>1128</td>\n",
       "      <td>xbox</td>\n",
       "    </tr>\n",
       "    <tr>\n",
       "      <th>195595</th>\n",
       "      <td>4017053</td>\n",
       "      <td>1155</td>\n",
       "      <td>xbox</td>\n",
       "    </tr>\n",
       "    <tr>\n",
       "      <th>195595</th>\n",
       "      <td>4017053</td>\n",
       "      <td>1141</td>\n",
       "      <td>xbox</td>\n",
       "    </tr>\n",
       "  </tbody>\n",
       "</table>\n",
       "<p>34875751 rows × 3 columns</p>\n",
       "</div>"
      ],
      "text/plain": [
       "        playerid library   plateforme\n",
       "0         268071   14972  playstation\n",
       "0         268071  417905  playstation\n",
       "0         268071   14693  playstation\n",
       "0         268071    7742  playstation\n",
       "0         268071   20162  playstation\n",
       "...          ...     ...          ...\n",
       "195595   4017053    2526         xbox\n",
       "195595   4017053    6889         xbox\n",
       "195595   4017053    1128         xbox\n",
       "195595   4017053    1155         xbox\n",
       "195595   4017053    1141         xbox\n",
       "\n",
       "[34875751 rows x 3 columns]"
      ]
     },
     "execution_count": 42,
     "metadata": {},
     "output_type": "execute_result"
    }
   ],
   "source": [
    "purchased_games_splitlibrary"
   ]
  },
  {
   "cell_type": "code",
   "execution_count": 47,
   "metadata": {},
   "outputs": [
    {
     "data": {
      "text/plain": [
       "playerid          0\n",
       "gameid        55607\n",
       "plateforme        0\n",
       "dtype: int64"
      ]
     },
     "execution_count": 47,
     "metadata": {},
     "output_type": "execute_result"
    }
   ],
   "source": [
    "# le nombre de joueurs n'ayant aucun jeu\n",
    "\n",
    "purchased_games_splitlibrary.isnull().sum()"
   ]
  },
  {
   "cell_type": "code",
   "execution_count": 45,
   "metadata": {},
   "outputs": [
    {
     "data": {
      "text/html": [
       "<div>\n",
       "<style scoped>\n",
       "    .dataframe tbody tr th:only-of-type {\n",
       "        vertical-align: middle;\n",
       "    }\n",
       "\n",
       "    .dataframe tbody tr th {\n",
       "        vertical-align: top;\n",
       "    }\n",
       "\n",
       "    .dataframe thead th {\n",
       "        text-align: right;\n",
       "    }\n",
       "</style>\n",
       "<table border=\"1\" class=\"dataframe\">\n",
       "  <thead>\n",
       "    <tr style=\"text-align: right;\">\n",
       "      <th></th>\n",
       "      <th>playerid</th>\n",
       "      <th>gameid</th>\n",
       "      <th>plateforme</th>\n",
       "    </tr>\n",
       "  </thead>\n",
       "  <tbody>\n",
       "    <tr>\n",
       "      <th>0</th>\n",
       "      <td>268071</td>\n",
       "      <td>14972</td>\n",
       "      <td>playstation</td>\n",
       "    </tr>\n",
       "    <tr>\n",
       "      <th>0</th>\n",
       "      <td>268071</td>\n",
       "      <td>417905</td>\n",
       "      <td>playstation</td>\n",
       "    </tr>\n",
       "    <tr>\n",
       "      <th>0</th>\n",
       "      <td>268071</td>\n",
       "      <td>14693</td>\n",
       "      <td>playstation</td>\n",
       "    </tr>\n",
       "    <tr>\n",
       "      <th>0</th>\n",
       "      <td>268071</td>\n",
       "      <td>7742</td>\n",
       "      <td>playstation</td>\n",
       "    </tr>\n",
       "    <tr>\n",
       "      <th>0</th>\n",
       "      <td>268071</td>\n",
       "      <td>20162</td>\n",
       "      <td>playstation</td>\n",
       "    </tr>\n",
       "  </tbody>\n",
       "</table>\n",
       "</div>"
      ],
      "text/plain": [
       "   playerid  gameid   plateforme\n",
       "0    268071   14972  playstation\n",
       "0    268071  417905  playstation\n",
       "0    268071   14693  playstation\n",
       "0    268071    7742  playstation\n",
       "0    268071   20162  playstation"
      ]
     },
     "execution_count": 45,
     "metadata": {},
     "output_type": "execute_result"
    }
   ],
   "source": [
    "# renommer la colonne library en gameid\n",
    "\n",
    "purchased_games_splitlibrary.columns =[\"playerid\", \"gameid\", \"plateforme\"]\n",
    "\n",
    "purchased_games_splitlibrary.head()"
   ]
  },
  {
   "cell_type": "code",
   "execution_count": 46,
   "metadata": {},
   "outputs": [],
   "source": [
    "purchased_games_splitlibrary.to_csv(\"out/purchased_games_final.csv\",index=False)"
   ]
  }
 ],
 "metadata": {
  "kernelspec": {
   "display_name": "base",
   "language": "python",
   "name": "python3"
  },
  "language_info": {
   "codemirror_mode": {
    "name": "ipython",
    "version": 3
   },
   "file_extension": ".py",
   "mimetype": "text/x-python",
   "name": "python",
   "nbconvert_exporter": "python",
   "pygments_lexer": "ipython3",
   "version": "3.12.4"
  }
 },
 "nbformat": 4,
 "nbformat_minor": 2
}
